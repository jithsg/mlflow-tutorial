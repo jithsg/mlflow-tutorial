{
 "cells": [
  {
   "cell_type": "code",
   "execution_count": 1,
   "metadata": {},
   "outputs": [
    {
     "ename": "ModuleNotFoundError",
     "evalue": "No module named 'mlflow'",
     "output_type": "error",
     "traceback": [
      "\u001b[1;31m---------------------------------------------------------------------------\u001b[0m",
      "\u001b[1;31mModuleNotFoundError\u001b[0m                       Traceback (most recent call last)",
      "Cell \u001b[1;32mIn[1], line 5\u001b[0m\n\u001b[0;32m      3\u001b[0m \u001b[39mfrom\u001b[39;00m \u001b[39msklearn\u001b[39;00m\u001b[39m.\u001b[39;00m\u001b[39mmetrics\u001b[39;00m \u001b[39mimport\u001b[39;00m mean_squared_error\n\u001b[0;32m      4\u001b[0m \u001b[39mfrom\u001b[39;00m \u001b[39msklearn\u001b[39;00m\u001b[39m.\u001b[39;00m\u001b[39mmodel_selection\u001b[39;00m \u001b[39mimport\u001b[39;00m train_test_split\n\u001b[1;32m----> 5\u001b[0m \u001b[39mimport\u001b[39;00m \u001b[39mmlflow\u001b[39;00m\n\u001b[0;32m      6\u001b[0m mlflow\u001b[39m.\u001b[39mset_experiment(\u001b[39m'\u001b[39m\u001b[39mLinear Regression\u001b[39m\u001b[39m'\u001b[39m)\n\u001b[0;32m      8\u001b[0m \u001b[39m# Load the uploaded CSV file into a pandas DataFrame\u001b[39;00m\n",
      "\u001b[1;31mModuleNotFoundError\u001b[0m: No module named 'mlflow'"
     ]
    }
   ],
   "source": [
    "import pandas as pd\n",
    "from sklearn.linear_model import LinearRegression\n",
    "from sklearn.metrics import mean_squared_error\n",
    "from sklearn.model_selection import train_test_split\n",
    "import mlflow\n",
    "mlflow.set_experiment('Linear Regression')\n",
    "\n",
    "# Load the uploaded CSV file into a pandas DataFrame\n",
    "df_uploaded = pd.read_csv('selected_1000_rows_one_hot.csv')\n",
    "\n",
    "# Display the first 5 rows of the DataFrame\n",
    "df_uploaded.head()\n",
    "\n",
    "\n",
    "def train_and_evaluate(df):\n",
    "    # Split the data into features and target\n",
    "    X = df.drop(columns=['SalePrice'])\n",
    "    y = df['SalePrice']\n",
    "    \n",
    "    # Split the data into training and testing sets\n",
    "    X_train, X_test, y_train, y_test = train_test_split(X, y, test_size=0.2, random_state=42)\n",
    "    \n",
    "    # Train a linear regression model on the training set\n",
    "    model = LinearRegression()\n",
    "    model.fit(X_train, y_train)\n",
    "    \n",
    "    # Evaluate the model on the testing set\n",
    "    y_pred = model.predict(X_test)\n",
    "    mse = mean_squared_error(y_test, y_pred)\n",
    "    \n",
    "    return model, mse\n",
    "\n",
    "\n",
    "\n",
    "def drop_and_evaluate(df):\n",
    "    # Store the original columns\n",
    "    original_columns = df.columns\n",
    "    \n",
    "    # Create a dictionary to store the MSE for each column dropped\n",
    "    mse_results = {}\n",
    "    \n",
    "    # Iterate over each column (excluding the target column 'SalePrice')\n",
    "    for col in original_columns:\n",
    "        if col != 'SalePrice':\n",
    "            # Drop the current column\n",
    "            df_dropped = df.drop(columns=[col])\n",
    "            \n",
    "            with mlflow.start_run(run_name=f\"dropped-column-{col}\"):\n",
    "\n",
    "                # Train and evaluate the model with the column dropped\n",
    "                _, mse = train_and_evaluate(df_dropped)\n",
    "\n",
    "                # Store the resulting MSE\n",
    "                mse_results[col] = mse   \n",
    "    return mse_results\n",
    "\n",
    "train_and_evaluate(df_uploaded)\n",
    "drop_and_evaluate(df_uploaded)\n"
   ]
  }
 ],
 "metadata": {
  "kernelspec": {
   "display_name": "base",
   "language": "python",
   "name": "python3"
  },
  "language_info": {
   "codemirror_mode": {
    "name": "ipython",
    "version": 3
   },
   "file_extension": ".py",
   "mimetype": "text/x-python",
   "name": "python",
   "nbconvert_exporter": "python",
   "pygments_lexer": "ipython3",
   "version": "3.11.4"
  },
  "orig_nbformat": 4
 },
 "nbformat": 4,
 "nbformat_minor": 2
}
